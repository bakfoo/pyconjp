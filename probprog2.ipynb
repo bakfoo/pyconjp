{
 "cells": [
  {
   "cell_type": "markdown",
   "metadata": {
    "slideshow": {
     "slide_type": "slide"
    }
   },
   "source": [
    "# 第2部 モンテカルロ法と推定\n",
    "\n",
    "- 2.1 確率論的プログラミングとは\n",
    "- 2.2 点推定，区間推定\n",
    "    - EAP\n",
    "    - MAP\n",
    "    - MED\n",
    "    - 区間推定\n",
    "- 2.2 モンテカルロサンプリングとパラメータ推定\n",
    "- 2.4 マルコフ鎖モンテカルロ(MCMC)のさわり\n",
    "- 2.5 計算機実装(コイン投げ coin: pymc3, pystan)\n",
    "    - pymc3\n",
    "    - pystan"
   ]
  },
  {
   "cell_type": "markdown",
   "metadata": {},
   "source": [
    "## 2.1  確率論的プログラミングとは\n",
    "\n",
    "![alt text](fig/infer.png \"infer\")\n",
    "\n",
    "- 確率分布としてパラメータを決める\n",
    "- パラメータを含んだ事前分布と尤度を用いて数式をたてる．これをモデリングという．\n",
    "- ベイズの定理に観測データを適用して，ベイズ更新し事後分布を求める\n",
    "- 事後分布から直接，点推定，区間推定はできない．\n",
    "- マルコフチェーン・モンテカルロでパラメータを推定する"
   ]
  },
  {
   "cell_type": "markdown",
   "metadata": {},
   "source": [
    "## 2.2 点推定，区間推定\n",
    "\n",
    "### 2.2.1 点推定\n",
    "\n",
    "#### 事後期待値(expected a posteriori, EAP): \n",
    "\n",
    "事後分布の期待値を推定値とする\n",
    "\n",
    "$$\n",
    "\\hat{\\theta_{eap}} = E[\\theta|D]\\\\\n",
    " = \\int d\\theta \\cdot \\theta \\cdot p(\\theta|D) \\\\\n",
    " = \\int d\\theta \\cdot \\theta \\cdot \\frac{p(D|\\theta) p(\\theta)}{p(D)}\n",
    "$$\n",
    "\n",
    "#### 事後確率最大値(maximum a posteriori, MAP): \n",
    "\n",
    "事後分布の最大値を期待値の推定値とする\n",
    "\n",
    "$$\n",
    "\\hat{\\theta_{map}} = max_\\theta p(\\theta|D)\n",
    "$$\n",
    "\n",
    "#### 事後中央値 (posterior median, MED): \n",
    "\n",
    "事後分布の中央値を期待値の推定値とする -> 分布関数 $F$が0.5になるメディアン値を推定値とする．\n",
    "\n",
    "$$\n",
    "F(\\hat{\\theta_{med}} | D) = \\int^{\\theta_{med}} d\\theta \\cdot f(\\theta | D ) = \\frac{1}{2}\n",
    "$$\n",
    "\n",
    "### 2.2.2 区間推定\n",
    "\n",
    "幅をもたせてパラメータの推定をおこなう方法で，確率分布の極端な両端の$\\alpha$%をのぞいた$(1 - \\alpha)$%の部分を推定幅として用いる．伝統的な統計学では，$\\alpha = 5$%を使うことが多い．"
   ]
  },
  {
   "cell_type": "markdown",
   "metadata": {
    "slideshow": {
     "slide_type": "slide"
    }
   },
   "source": [
    "## 2.3 モンテカルロサンプリングとパラメータ推定\n",
    "\n",
    "なぜモンテカルロサンプリングが必要なのか．それは，事後分布のランダムサンプリングが可能ならば，簡単にモデルのパラメータを推定できるから，である．\n",
    "\n",
    "次の事後期待値を考える．\n",
    "\n",
    "$$\n",
    "\\int d\\theta \\cdot f(\\theta) p(\\theta)\n",
    "$$\n",
    "\n",
    "![alt text](fig/monte1.png \"monte1\")\n",
    "\n",
    "結局，以下のように，事後分布のランダムサンプリングが可能ならば，簡単にモデルのパラメータを推定できることがわかった．\n",
    "\n",
    "$$\n",
    "\\int d\\theta \\cdot f(\\theta) p(\\theta) = \\frac{1}{N} \\sum_{\\theta_j \\sim p(\\theta_j)} f(\\theta_j)\n",
    "$$\n",
    "\n",
    "\n"
   ]
  },
  {
   "cell_type": "markdown",
   "metadata": {},
   "source": [
    "## 2.4 マルコフチェーンモンテカルロのさわり\n",
    "\n",
    "MCMCとは，マルコフチェーンを利用して，欲しい確率分布（目標分布）の乱数を生成するアルゴリズムのことをさす．\n",
    "\n",
    "マルコフチェーンとは，以下のような，一期前の変数にだけ依存するような条件付き確率で表現できる確率過程をいいます．\n",
    "\n",
    "$$\n",
    "p(X^{(t)}|X^{(t-1)}, X^{(t-2)}, \\dots, X^{(1)}) = p(X^{(t)}|X^{(t-1)})\n",
    "$$\n",
    "\n",
    "マルコフチェーンを規定する条件付き確率事態を遷移確率の行列を遷移核といいいます．\n",
    "\n",
    "マルコフチェーンを利用する理由は，目標分布である定常状態に収束することが確率論的に保証されているからです．収束するまえの状態にあるチェーンは「バーン・イン, burn-in」といって，通常バーン・インにあるチェーンは取り除いて利用する．\n",
    "\n",
    "MCMC法のアルゴリズムには以下のものがある．\n",
    "\n",
    "\t- メトロポリス・ヘイスティング法\n",
    "        - ランダムメトロポリス・ヘイスティング法\n",
    "    - ギブスサンプリング法\n",
    "        - スライスサンプリング\n",
    "\t- ハミルトニアンモンテカルロ法\n",
    "        - NUTS(No-U-Turn Sampler)\n"
   ]
  },
  {
   "cell_type": "markdown",
   "metadata": {},
   "source": [
    "### 2.4.1 メトロポリス・ヘイスティング法\n",
    "\n",
    "- マルコフチェーンを利用して，事後分布に従う乱数を生成する．\n",
    "- 一番簡単なMCMC方のアルゴリズム\n",
    "\n",
    "$$\\newcommand{\\var}{{\\rm var}}\n",
    "\\newcommand{\\cov}{{\\rm cov}}\n",
    "\\newcommand{\\corr}{{\\rm corr}}\n",
    "\\newcommand{\\xss}{x^{(i+1)}}\n",
    "\\newcommand{\\xs}{x^{\\star}}\n",
    "\\newcommand{\\xt}{x^{(i)}}\n",
    "\\newcommand{\\xa}{x_a}\n",
    "\\newcommand{\\xb}{x_b}$$\n",
    "\n",
    "------\n",
    "\n",
    "- 初期値として$x^{(1)}$を適当に定める\n",
    "- 現在値を$\\xt$として，提案分布$q(\\xs|\\xt)$を使って候補として$\\xs$をサンプリングする．\n",
    "- 以下の受け入れ確率で，$\\xs$だけ動くか，それとも$\\xt$にそのままでいるかを決める．\n",
    "\n",
    "$$\n",
    "A(\\xt,\\xs) = \\min\\left[1, \\frac{p(\\xs) \\, q(\\xt|\\xs)}{p(\\xt) q(\\xs|\\xt) } \\right] \n",
    "$$\n",
    "\n",
    "------\n",
    "* Initialize $x^{(1)}$ \n",
    "* For i=2 to N \n",
    "   * Sample $u\\sim U(0,1)$ \n",
    "   *  Sample $\\xs \\sim q(\\xs|x^{(i)})$ \n",
    "   *  if $u<A(x^{(i)},\\xs) = \\min\\left[1, \\frac{p(\\xs) \\, q(x^{(i)}|\\xs)}{p(x^{(i)}) q(\\xs| \\xt ) } \\right]  $\n",
    "   \n",
    "   $x^{(i+1)}=\\xs$\n",
    "   * else  \n",
    "\t\t$x^{(i+1)}=x^{(i)}$\n",
    "------\n",
    "\n",
    "注意：もし遷移確率が以下のように対称なら，\n",
    "\n",
    "$$q(\\xs|x^{(i)}) = q(x^{(i)}|\\xs)$$\n",
    "\n",
    "受け入れ確率を以下のようにすること．\n",
    "\n",
    "$$ A(x,\\xs) = \\min\\left[1, \\frac{p(\\xs)}{p(x) } \\right] $$"
   ]
  },
  {
   "cell_type": "markdown",
   "metadata": {},
   "source": [
    "### MHアルゴリズムの実装例\n",
    "\n",
    "目標分布： $$p(x) =6x(1-x)$$\n",
    "\n",
    "提案分布： $$\\xs \\sim N(x, 0.6) $$"
   ]
  },
  {
   "cell_type": "code",
   "execution_count": 4,
   "metadata": {
    "collapsed": false
   },
   "outputs": [
    {
     "data": {
      "text/plain": [
       "<matplotlib.legend.Legend at 0x7f1554274860>"
      ]
     },
     "execution_count": 4,
     "metadata": {},
     "output_type": "execute_result"
    },
    {
     "data": {
      "image/png": "[encoded data removed]",
      "text/plain": [
       "<matplotlib.figure.Figure at 0x7f1554274908>"
      ]
     },
     "metadata": {},
     "output_type": "display_data"
    }
   ],
   "source": [
    "%matplotlib inline \n",
    "import numpy as np\n",
    "import matplotlib.pylab as plt\n",
    "import pandas as pd\n",
    "\n",
    "pd.set_option('display.width', 500)\n",
    "pd.set_option('display.max_columns', 100)\n",
    "import seaborn as sns\n",
    "\n",
    "## FUNCTIONS \n",
    "# target distribution p(x) \n",
    "p = lambda x: 6*x*(1-x)\n",
    "\n",
    "# number of samples\n",
    "n = 100000\n",
    "\n",
    "sig =0.10\n",
    "\n",
    "#intitialize the sampling. Start somewhere from 0..1\n",
    "x0 = np.random.uniform()\n",
    "\n",
    "x_prev = x0\n",
    "\n",
    "x=[]\n",
    "k=1\n",
    "i=0\n",
    "while i<n:\n",
    "    \n",
    "    x_star = np.random.normal(x_prev, sig)\n",
    "    while  (x_star <0) | (x_star > 1):  # MAKE SURE WE STAY WITHIN BOUNDS\n",
    "        x_star = np.random.normal(x_prev, sig)\n",
    "\n",
    "    P_star = 6*x_star*(1-x_star) #p(x_star);\n",
    "    P_prev = 6*x_prev*(1-x_prev) #p(x_prev);\n",
    "    U =  np.random.uniform()\n",
    "    \n",
    "    A =  P_star/P_prev\n",
    "    if U < A:\n",
    "        x.append(x_star)\n",
    "        i = i + 1\n",
    "        x_prev = x_star\n",
    "    else :\n",
    "        x.append(x_prev)\n",
    "        x_prev = x[i]  \n",
    "        i = i + 1\n",
    " \n",
    "        k=k+1\n",
    "\n",
    "e,q,h=plt.hist(x,10, alpha=0.4, label=u'MCMC distribution') \n",
    "\n",
    "xx= np.linspace(0,1,100)\n",
    "plt.plot(xx, 0.67*np.max(e)*p(xx), 'r', label=u'True dsitribution') \n",
    "plt.legend()"
   ]
  },
  {
   "cell_type": "code",
   "execution_count": 1,
   "metadata": {
    "collapsed": false,
    "scrolled": true
   },
   "outputs": [
    {
     "data": {
      "text/html": [
       "\n",
       "        <iframe\n",
       "            width=\"400\"\n",
       "            height=\"300\"\n",
       "            src=\"https://www.youtube.com/embed/qQFF4tPgeWI\"\n",
       "            frameborder=\"0\"\n",
       "            allowfullscreen\n",
       "        ></iframe>\n",
       "        "
      ],
      "text/plain": [
       "<IPython.lib.display.YouTubeVideo at 0x7f155472b3c8>"
      ]
     },
     "execution_count": 1,
     "metadata": {},
     "output_type": "execute_result"
    }
   ],
   "source": [
    "from IPython.display import YouTubeVideo\n",
    "\n",
    "# Bayesian Inference and MCMC (Bob Carpenter) 2:03:10 (t=7390)\n",
    "YouTubeVideo('qQFF4tPgeWI')"
   ]
  },
  {
   "cell_type": "markdown",
   "metadata": {},
   "source": [
    "### 2.4.2 ハミルトニアンモンテカルロ法"
   ]
  },
  {
   "cell_type": "markdown",
   "metadata": {},
   "source": [
    "- ハミルトン力学(解析力学）のアナロジーで，サンプリングの遷移を力学的に決めることで，事後分布に従う乱数を生成する．\n",
    "    - パラメータ空間 -> 位相空間\n",
    "    - ある特徴的なパラメータ -> 運動量\n",
    "    - ポテンシャル -> マイナスの事後分布\n",
    "    - 位相空間と運動量の連立微分方程式であるハミルトン方程式をたて，リープフロッグ法で解く\n",
    "    \n",
    "$$\n",
    "\\frac{d p(\\tau)}{d\\tau} = - h(\\theta(\\tau)) \\\\\n",
    "\\frac{d \\theta(\\tau)}{d\\tau} = - p(\\tau)\n",
    "$$\n",
    "- HMCの計算機実装：PyMC3, Stanの二つが現在の所まともなHMCの実装(LaplacesDeamonはおそらく死亡…)\n",
    "- 日本語の文献：豊田秀樹編著, 基礎からのベイズ統計学 - ハミルトニアンモンテカルロ法による実践的入門"
   ]
  },
  {
   "cell_type": "code",
   "execution_count": 17,
   "metadata": {
    "collapsed": false,
    "scrolled": true
   },
   "outputs": [
    {
     "data": {
      "text/html": [
       "\n",
       "        <iframe\n",
       "            width=\"400\"\n",
       "            height=\"300\"\n",
       "            src=\"https://www.youtube.com/embed/pHsuIaPbNbY\"\n",
       "            frameborder=\"0\"\n",
       "            allowfullscreen\n",
       "        ></iframe>\n",
       "        "
      ],
      "text/plain": [
       "<IPython.lib.display.YouTubeVideo at 0x7f510b323320>"
      ]
     },
     "execution_count": 17,
     "metadata": {},
     "output_type": "execute_result"
    }
   ],
   "source": [
    "# Hamiltonian Monte Carlo and Stan (Michael Betancourt) 58:25 (t=3507)\n",
    "YouTubeVideo('pHsuIaPbNbY')"
   ]
  },
  {
   "cell_type": "markdown",
   "metadata": {},
   "source": [
    "###2.4.3 MH, Gibbs, HMCのサンプリングの比較デモ"
   ]
  },
  {
   "cell_type": "code",
   "execution_count": 30,
   "metadata": {
    "collapsed": false
   },
   "outputs": [
    {
     "data": {
      "text/html": [
       "\n",
       "        <iframe\n",
       "            width=\"100%\"\n",
       "            height=\"1000\"\n",
       "            src=\"http://twiecki.github.io/blog/2014/01/02/visualizing-mcmc/\"\n",
       "            frameborder=\"0\"\n",
       "            allowfullscreen\n",
       "        ></iframe>\n",
       "        "
      ],
      "text/plain": [
       "<IPython.lib.display.IFrame at 0x7f510b3304a8>"
      ]
     },
     "execution_count": 30,
     "metadata": {},
     "output_type": "execute_result"
    }
   ],
   "source": [
    "# HT: Thomas Wiecki\n",
    "from IPython.display import IFrame\n",
    "IFrame('http://twiecki.github.io/blog/2014/01/02/visualizing-mcmc/', width='100%', height=1000)"
   ]
  },
  {
   "cell_type": "markdown",
   "metadata": {},
   "source": [
    "## 2.5 計算機実装"
   ]
  },
  {
   "cell_type": "markdown",
   "metadata": {},
   "source": [
    "### 2.5.1 pymc3\n",
    "\n",
    "- pythonのMCMC実装の老舗プロジェクト\n",
    "- pymc3はpymc2とは別に，完全に新しく始めたプロジェクト．\n",
    "- シンタックスが簡単\n",
    "- いけてるサンプリングアルゴリズム: NUTS\n",
    "    - NUTS, Metropolis, Slice, HamiltonianMC, BinaryMetropolis\n",
    "- Theano\n",
    "    - Theanoの自動微分機能を用いて，解析的にモデルのグラジェントを計算\n",
    "    - CUDAを利用したGPU計算でパフォーマンスが期待できる\n",
    "    - JITコンパイル: python/Numpy - theano -> C -> GPU/CPU\n",
    "- 非常に期待したいが…．\n",
    "    - コアの開発者が三人しかいない: John Salvatier, Thomas Wiecki, Chris Fonnesbeck.\n",
    "    - ドキュメントがプアである…．ただし，Thomas Wieckiのブログが孤軍奮闘\n",
    "    - Theanoからのもらいバグが多い…\n",
    "    - 最近開発が止まりガチ…"
   ]
  },
  {
   "cell_type": "code",
   "execution_count": 21,
   "metadata": {
    "collapsed": false
   },
   "outputs": [
    {
     "data": {
      "text/html": [
       "\n",
       "        <iframe\n",
       "            width=\"400\"\n",
       "            height=\"300\"\n",
       "            src=\"https://www.youtube.com/embed/VVbJ4jEoOfU\"\n",
       "            frameborder=\"0\"\n",
       "            allowfullscreen\n",
       "        ></iframe>\n",
       "        "
      ],
      "text/plain": [
       "<IPython.lib.display.YouTubeVideo at 0x7f510b3234a8>"
      ]
     },
     "execution_count": 21,
     "metadata": {},
     "output_type": "execute_result"
    }
   ],
   "source": [
    "# John Salvatier: \"Bayesian inference with PyMC 3\" in PyData Seattle 2015\n",
    "YouTubeVideo('VVbJ4jEoOfU')"
   ]
  },
  {
   "cell_type": "code",
   "execution_count": 20,
   "metadata": {
    "collapsed": false,
    "scrolled": true
   },
   "outputs": [
    {
     "data": {
      "text/html": [
       "\n",
       "        <iframe\n",
       "            width=\"400\"\n",
       "            height=\"300\"\n",
       "            src=\"https://www.youtube.com/embed/KqTUNJ1smYM\"\n",
       "            frameborder=\"0\"\n",
       "            allowfullscreen\n",
       "        ></iframe>\n",
       "        "
      ],
      "text/plain": [
       "<IPython.lib.display.YouTubeVideo at 0x7f510b323400>"
      ]
     },
     "execution_count": 20,
     "metadata": {},
     "output_type": "execute_result"
    }
   ],
   "source": [
    "# Thomas Wiecki: \"Probabilistic Programming in Python\" in EuroPython 2014 \n",
    "YouTubeVideo('KqTUNJ1smYM')"
   ]
  },
  {
   "cell_type": "code",
   "execution_count": 24,
   "metadata": {
    "collapsed": false,
    "scrolled": true
   },
   "outputs": [
    {
     "data": {
      "text/html": [
       "\n",
       "        <iframe\n",
       "            width=\"100%\"\n",
       "            height=\"400\"\n",
       "            src=\"http://twiecki.github.io/blog/2013/12/12/bayesian-data-analysis-pymc3/\"\n",
       "            frameborder=\"0\"\n",
       "            allowfullscreen\n",
       "        ></iframe>\n",
       "        "
      ],
      "text/plain": [
       "<IPython.lib.display.IFrame at 0x7f510b3239e8>"
      ]
     },
     "execution_count": 24,
     "metadata": {},
     "output_type": "execute_result"
    }
   ],
   "source": [
    "# Thomas Wiecki: \"Bayesian Data Analysis with PyMC3\" in PyData NYC 2013 \n",
    "IFrame('http://twiecki.github.io/blog/2013/12/12/bayesian-data-analysis-pymc3/', width='100%', height=400)"
   ]
  },
  {
   "cell_type": "markdown",
   "metadata": {},
   "source": [
    "### 2.5.2 stan/pystan\n",
    "\n",
    "- ハミルトン･モンテカルロ法のスター研究者達が自らC++でコーディングしている実装\n",
    "    - Andrew Gelmanをリーダに，NUTS法や変分ベイズのMatthew Hoffmanやリーマン多様体HMCのMichael Betancourtなど．\n",
    "- HMC法を実装する実装（stan, pymc3)のなかで，一番最新の機能実装が進んでいる．\n",
    "    - 変分ベイズも実装済み．リーマン多様体HMCも実装中．\n",
    "- ドキュメントが充実している．勝手にStan入門が充実している．\n",
    "    - \"Modeling Language User’s Guide and Reference Manual\" [stan-reference-2.8.0.pdf](https://github.com/stan-dev/stan/releases/download/v2.8.0/stan-reference-2.8.0.pdf)\n",
    "- Pythonより圧倒的にRから使われることが多い．"
   ]
  },
  {
   "cell_type": "code",
   "execution_count": 3,
   "metadata": {
    "collapsed": false
   },
   "outputs": [
    {
     "data": {
      "text/html": [
       "\n",
       "        <iframe\n",
       "            width=\"400\"\n",
       "            height=\"300\"\n",
       "            src=\"https://www.youtube.com/embed/tLprFqSWS1w\"\n",
       "            frameborder=\"0\"\n",
       "            allowfullscreen\n",
       "        ></iframe>\n",
       "        "
      ],
      "text/plain": [
       "<IPython.lib.display.YouTubeVideo at 0x7f1554720f98>"
      ]
     },
     "execution_count": 3,
     "metadata": {},
     "output_type": "execute_result"
    }
   ],
   "source": [
    "# Ehsan Karim: \"Stan for the beginners [Bayesian inference] in 6 mins \"\n",
    "YouTubeVideo('tLprFqSWS1w')"
   ]
  },
  {
   "cell_type": "code",
   "execution_count": 18,
   "metadata": {
    "collapsed": false,
    "scrolled": true
   },
   "outputs": [
    {
     "data": {
      "text/html": [
       "\n",
       "        <iframe\n",
       "            width=\"400\"\n",
       "            height=\"300\"\n",
       "            src=\"https://www.youtube.com/embed/6NXRCtWQNMg\"\n",
       "            frameborder=\"0\"\n",
       "            allowfullscreen\n",
       "        ></iframe>\n",
       "        "
      ],
      "text/plain": [
       "<IPython.lib.display.YouTubeVideo at 0x7f510b323208>"
      ]
     },
     "execution_count": 18,
     "metadata": {},
     "output_type": "execute_result"
    }
   ],
   "source": [
    "# Bob Carpenter: \"Bayesian Inference and MCMC\" in MLSS Sydney 2015\n",
    "YouTubeVideo('6NXRCtWQNMg')"
   ]
  },
  {
   "cell_type": "code",
   "execution_count": 19,
   "metadata": {
    "collapsed": false,
    "scrolled": true
   },
   "outputs": [
    {
     "data": {
      "text/html": [
       "\n",
       "        <iframe\n",
       "            width=\"400\"\n",
       "            height=\"300\"\n",
       "            src=\"https://www.youtube.com/embed/xWQpEAyI5s8\"\n",
       "            frameborder=\"0\"\n",
       "            allowfullscreen\n",
       "        ></iframe>\n",
       "        "
      ],
      "text/plain": [
       "<IPython.lib.display.YouTubeVideo at 0x7f510b3232b0>"
      ]
     },
     "execution_count": 19,
     "metadata": {},
     "output_type": "execute_result"
    }
   ],
   "source": [
    "# Michael Betancourt: \"Hamiltonian Monte Carlo and Stan\" in MLSS Iceland 2014\n",
    "YouTubeVideo('xWQpEAyI5s8')"
   ]
  }
 ],
 "metadata": {
  "kernelspec": {
   "display_name": "Python 3",
   "language": "python",
   "name": "python3"
  },
  "language_info": {
   "codemirror_mode": {
    "name": "ipython",
    "version": 3
   },
   "file_extension": ".py",
   "mimetype": "text/x-python",
   "name": "python",
   "nbconvert_exporter": "python",
   "pygments_lexer": "ipython3",
   "version": "3.4.3"
  }
 },
 "nbformat": 4,
 "nbformat_minor": 0
}
