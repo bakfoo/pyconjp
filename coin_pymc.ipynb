{
 "cells": [
  {
   "cell_type": "code",
   "execution_count": 3,
   "metadata": {
    "collapsed": false
   },
   "outputs": [],
   "source": [
    "from __future__ import division\n",
    "import os\n",
    "import sys\n",
    "import glob\n",
    "import matplotlib.pyplot as plt\n",
    "import numpy as np\n",
    "import pandas as pd\n",
    "%matplotlib inline\n",
    "%precision 4\n",
    "#plt.style.use('ggplot')\n",
    "import seaborn as sns\n",
    "sns.set_style('white')\n",
    "sns.set_context('paper')\n",
    "\n",
    "np.random.seed(1234)\n",
    "import pymc3 as pm\n",
    "import scipy.stats as stats\n",
    "\n",
    "import logging\n",
    "_logger = logging.getLogger(\"theano.gof.compilelock\")\n",
    "_logger.setLevel(logging.ERROR)"
   ]
  },
  {
   "cell_type": "code",
   "execution_count": 4,
   "metadata": {
    "collapsed": false
   },
   "outputs": [
    {
     "name": "stdout",
     "output_type": "stream",
     "text": [
      "\r",
      " [-----------------100%-----------------] 1000 of 1000 complete in 0.1 sec"
     ]
    }
   ],
   "source": [
    "n = 100\n",
    "h = 61\n",
    "alpha = 2\n",
    "beta = 2\n",
    "\n",
    "niter = 1000\n",
    "with pm.Model() as model: # context management\n",
    "    # define priors\n",
    "    p = pm.Beta('p', alpha=alpha, beta=beta)\n",
    "\n",
    "    # define likelihood\n",
    "    y = pm.Binomial('y', n=n, p=p, observed=h)\n",
    "\n",
    "    # inference\n",
    "    start = pm.find_MAP() # Use MAP estimate (optimization) as the initial state for MCMC\n",
    "    step = pm.Metropolis() # Have a choice of samplers\n",
    "    trace = pm.sample(niter, step, start, random_seed=123, progressbar=True)"
   ]
  },
  {
   "cell_type": "code",
   "execution_count": 5,
   "metadata": {
    "collapsed": false
   },
   "outputs": [
    {
     "data": {
      "image/png": "[encoded data removed]",
      "text/plain": [
       "<matplotlib.figure.Figure at 0x7f7f8312d208>"
      ]
     },
     "metadata": {},
     "output_type": "display_data"
    }
   ],
   "source": [
    "plt.hist(trace['p'], 15, histtype='step', normed=True, label='post');\n",
    "x = np.linspace(0, 1, 100)\n",
    "plt.plot(x, stats.beta.pdf(x, alpha, beta), label='prior');\n",
    "plt.legend(loc='best');"
   ]
  }
 ],
 "metadata": {
  "kernelspec": {
   "display_name": "Python 3",
   "language": "python",
   "name": "python3"
  },
  "language_info": {
   "codemirror_mode": {
    "name": "ipython",
    "version": 3
   },
   "file_extension": ".py",
   "mimetype": "text/x-python",
   "name": "python",
   "nbconvert_exporter": "python",
   "pygments_lexer": "ipython3",
   "version": "3.4.3"
  }
 },
 "nbformat": 4,
 "nbformat_minor": 0
}
