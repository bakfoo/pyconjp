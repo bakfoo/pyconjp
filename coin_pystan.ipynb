{
 "cells": [
  {
   "cell_type": "code",
   "execution_count": 4,
   "metadata": {
    "collapsed": true
   },
   "outputs": [],
   "source": [
    "from __future__ import division\n",
    "import os\n",
    "import sys\n",
    "import glob\n",
    "import matplotlib.pyplot as plt\n",
    "import numpy as np\n",
    "import pandas as pd\n",
    "%matplotlib inline\n",
    "%precision 4\n",
    "#plt.style.use('ggplot')\n",
    "import seaborn as sns\n",
    "sns.set_style('white')\n",
    "sns.set_context('paper')\n",
    "\n",
    "np.random.seed(1234)\n",
    "import pystan\n",
    "import scipy.stats as stats\n",
    "\n",
    "import scipy.stats as stats"
   ]
  },
  {
   "cell_type": "code",
   "execution_count": 5,
   "metadata": {
    "collapsed": true
   },
   "outputs": [],
   "source": [
    "coin_code = \"\"\"\n",
    "data {\n",
    "    int<lower=0> n; // number of tosses\n",
    "    int<lower=0> y; // number of heads\n",
    "}\n",
    "transformed data {}\n",
    "parameters {\n",
    "    real<lower=0, upper=1> p;\n",
    "}\n",
    "transformed parameters {}\n",
    "model {\n",
    "    p ~ beta(2, 2);\n",
    "    y ~ binomial(n, p);\n",
    "}\n",
    "generated quantities {}\n",
    "\"\"\"\n",
    "\n",
    "coin_dat = {\n",
    "             'n': 100,\n",
    "             'y': 61,\n",
    "            }\n",
    "\n",
    "fit = pystan.stan(model_code=coin_code, data=coin_dat, iter=1000, chains=1)\n",
    "#fit = pystan.stan(file='coin_code.stan', data=coin_dat, iter=1000, chains=1)"
   ]
  },
  {
   "cell_type": "code",
   "execution_count": 6,
   "metadata": {
    "collapsed": false
   },
   "outputs": [
    {
     "name": "stdout",
     "output_type": "stream",
     "text": [
      "Inference for Stan model: anon_model_7f1947cd2d39ae427cd7b6bb6e6ffd77.\n",
      "1 chains, each with iter=1000; warmup=500; thin=1; \n",
      "post-warmup draws per chain=500, total post-warmup draws=500.\n",
      "\n",
      "       mean se_mean     sd   2.5%    25%    50%    75%  97.5%  n_eff   Rhat\n",
      "p       0.6  4.5e-3   0.05   0.51   0.58   0.61   0.63   0.69    105    1.0\n",
      "lp__ -70.21    0.07   0.71 -72.34 -70.32 -69.92 -69.78 -69.74    102   1.01\n",
      "\n",
      "Samples were drawn using NUTS(diag_e) at Tue Oct  6 09:18:52 2015.\n",
      "For each parameter, n_eff is a crude measure of effective sample size,\n",
      "and Rhat is the potential scale reduction factor on split chains (at \n",
      "convergence, Rhat=1).\n"
     ]
    }
   ],
   "source": [
    "print(fit)"
   ]
  },
  {
   "cell_type": "code",
   "execution_count": 7,
   "metadata": {
    "collapsed": false
   },
   "outputs": [
    {
     "data": {
      "text/plain": [
       "KeysView(OrderedDict([('p', array([ 0.5849,  0.6032,  0.6161,  0.6406,  0.5578,  0.5511,  0.5845,\n",
       "        0.5935,  0.6055,  0.6308,  0.6219,  0.5853,  0.5001,  0.649 ,\n",
       "        0.56  ,  0.5821,  0.6758,  0.5972,  0.5986,  0.6453,  0.6075,\n",
       "        0.5348,  0.6184,  0.6529,  0.5438,  0.5766,  0.5906,  0.6449,\n",
       "        0.5919,  0.5979,  0.5434,  0.5007,  0.6288,  0.6595,  0.6078,\n",
       "        0.6273,  0.6336,  0.5237,  0.5512,  0.5237,  0.5705,  0.605 ,\n",
       "        0.6121,  0.5118,  0.7063,  0.6399,  0.6078,  0.6135,  0.6015,\n",
       "        0.4795,  0.5954,  0.5643,  0.6487,  0.58  ,  0.6044,  0.6002,\n",
       "        0.5955,  0.5841,  0.6152,  0.6517,  0.6099,  0.6342,  0.5969,\n",
       "        0.5858,  0.5916,  0.612 ,  0.6146,  0.6504,  0.5188,  0.6575,\n",
       "        0.5784,  0.6214,  0.5267,  0.6073,  0.4621,  0.6644,  0.5658,\n",
       "        0.6635,  0.5984,  0.6505,  0.6464,  0.5102,  0.566 ,  0.7129,\n",
       "        0.6163,  0.5673,  0.5658,  0.6334,  0.6098,  0.6946,  0.6664,\n",
       "        0.6404,  0.6248,  0.6976,  0.6066,  0.5549,  0.6875,  0.6911,\n",
       "        0.5921,  0.6336,  0.6219,  0.5418,  0.6857,  0.501 ,  0.6338,\n",
       "        0.5788,  0.6508,  0.5935,  0.6333,  0.5267,  0.6228,  0.5128,\n",
       "        0.561 ,  0.6318,  0.6662,  0.6427,  0.6178,  0.6594,  0.5788,\n",
       "        0.5658,  0.5848,  0.628 ,  0.5348,  0.6449,  0.5837,  0.6831,\n",
       "        0.582 ,  0.6313,  0.5761,  0.584 ,  0.6078,  0.5733,  0.6486,\n",
       "        0.6292,  0.5932,  0.5621,  0.6265,  0.5764,  0.5904,  0.6947,\n",
       "        0.6263,  0.6087,  0.5658,  0.5504,  0.6143,  0.6243,  0.65  ,\n",
       "        0.6116,  0.5821,  0.5993,  0.651 ,  0.5237,  0.5672,  0.6373,\n",
       "        0.667 ,  0.5843,  0.6157,  0.5845,  0.6059,  0.5973,  0.611 ,\n",
       "        0.6427,  0.6552,  0.5262,  0.6704,  0.5386,  0.6194,  0.6502,\n",
       "        0.6189,  0.5826,  0.5923,  0.5536,  0.6362,  0.6222,  0.6195,\n",
       "        0.5517,  0.6471,  0.6308,  0.6251,  0.6306,  0.626 ,  0.6619,\n",
       "        0.5934,  0.6155,  0.6123,  0.6586,  0.7215,  0.6076,  0.632 ,\n",
       "        0.5959,  0.5945,  0.5093,  0.5936,  0.6354,  0.5656,  0.6416,\n",
       "        0.6395,  0.659 ,  0.5731,  0.6546,  0.614 ,  0.6278,  0.5786,\n",
       "        0.6444,  0.5128,  0.5733,  0.5348,  0.5779,  0.5696,  0.6002,\n",
       "        0.6081,  0.6323,  0.6467,  0.6024,  0.647 ,  0.576 ,  0.6515,\n",
       "        0.6031,  0.5735,  0.6509,  0.6113,  0.5504,  0.6908,  0.6147,\n",
       "        0.7103,  0.634 ,  0.6559,  0.5976,  0.5775,  0.6362,  0.4502,\n",
       "        0.5847,  0.6008,  0.6434,  0.623 ,  0.6294,  0.7335,  0.6134,\n",
       "        0.5635,  0.6416,  0.5997,  0.6521,  0.643 ,  0.6119,  0.5436,\n",
       "        0.5408,  0.6506,  0.6444,  0.5911,  0.6582,  0.6402,  0.612 ,\n",
       "        0.6243,  0.5657,  0.621 ,  0.6779,  0.5487,  0.5544,  0.5914,\n",
       "        0.6471,  0.6627,  0.6384,  0.6155,  0.5518,  0.5732,  0.5216,\n",
       "        0.6414,  0.5853,  0.5947,  0.6332,  0.6688,  0.5386,  0.5281,\n",
       "        0.6078,  0.6507,  0.6293,  0.5357,  0.622 ,  0.5838,  0.6684,\n",
       "        0.6067,  0.6621,  0.6145,  0.5517,  0.6406,  0.6042,  0.6055,\n",
       "        0.67  ,  0.6647,  0.5561,  0.5775,  0.5849,  0.5256,  0.5869,\n",
       "        0.7103,  0.6105,  0.602 ,  0.56  ,  0.5398,  0.624 ,  0.6163,\n",
       "        0.6476,  0.5955,  0.6287,  0.5592,  0.6346,  0.5849,  0.6613,\n",
       "        0.5691,  0.649 ,  0.5647,  0.6486,  0.5484,  0.5679,  0.6195,\n",
       "        0.5677,  0.6166,  0.6863,  0.5472,  0.7137,  0.5445,  0.5339,\n",
       "        0.4631,  0.6293,  0.5958,  0.5488,  0.5525,  0.5926,  0.5904,\n",
       "        0.6368,  0.5956,  0.612 ,  0.6052,  0.6276,  0.6742,  0.6312,\n",
       "        0.5939,  0.6359,  0.5896,  0.635 ,  0.6487,  0.6373,  0.582 ,\n",
       "        0.5256,  0.6064,  0.6273,  0.6527,  0.6539,  0.6897,  0.6279,\n",
       "        0.629 ,  0.5819,  0.6055,  0.5879,  0.6335,  0.6147,  0.7057,\n",
       "        0.4897,  0.5856,  0.6015,  0.5798,  0.5922,  0.5691,  0.6897,\n",
       "        0.6041,  0.5922,  0.6072,  0.623 ,  0.6231,  0.5898,  0.5645,\n",
       "        0.6097,  0.5941,  0.5706,  0.6093,  0.5454,  0.6367,  0.6342,\n",
       "        0.6415,  0.5955,  0.6249,  0.4806,  0.6281,  0.6487,  0.6034,\n",
       "        0.6116,  0.622 ,  0.5553,  0.6   ,  0.6349,  0.5536,  0.6059,\n",
       "        0.628 ,  0.6168,  0.6306,  0.5782,  0.6266,  0.5547,  0.5488,\n",
       "        0.5927,  0.5599,  0.61  ,  0.5926,  0.6288,  0.6049,  0.6351,\n",
       "        0.6549,  0.5837,  0.5296,  0.5494,  0.5386,  0.5561,  0.5667,\n",
       "        0.6623,  0.6237,  0.5858,  0.6259,  0.6015,  0.6111,  0.6466,\n",
       "        0.5129,  0.6247,  0.5796,  0.5698,  0.6191,  0.5781,  0.6506,\n",
       "        0.6208,  0.5249,  0.5711,  0.6311,  0.6283,  0.5901,  0.6296,\n",
       "        0.5764,  0.5778,  0.5906,  0.5906,  0.664 ,  0.6279,  0.5091,\n",
       "        0.4724,  0.6378,  0.6018,  0.5102,  0.5701,  0.6121,  0.5858,\n",
       "        0.7041,  0.5274,  0.5227,  0.6265,  0.6219,  0.5509,  0.5996,\n",
       "        0.535 ,  0.7011,  0.6681,  0.6809,  0.5826,  0.6726,  0.5735,\n",
       "        0.5697,  0.6194,  0.5708,  0.5959,  0.5133,  0.5975,  0.4991,\n",
       "        0.5706,  0.6137,  0.6668,  0.661 ,  0.6175,  0.5895,  0.6415,\n",
       "        0.6147,  0.5828,  0.6592,  0.5633,  0.592 ,  0.5487,  0.6668,\n",
       "        0.5756,  0.5802,  0.6395,  0.5862,  0.6151,  0.5967,  0.605 ,\n",
       "        0.6023,  0.5723,  0.6569,  0.575 ,  0.6586,  0.6148,  0.5918,\n",
       "        0.619 ,  0.6021,  0.6345])), ('lp__', array([-69.8367, -69.7442, -69.7659, -70.0128, -70.2323, -70.3781,\n",
       "       -69.8396, -69.7753, -69.7427, -69.8813, -69.8001, -69.8328,\n",
       "       -72.0816, -70.163 , -70.1895, -69.8632, -70.8694, -69.7588,\n",
       "       -69.7538, -70.0922, -69.7434, -70.8064, -69.7778, -70.2437,\n",
       "       -70.5558, -69.9255, -69.7927, -70.0849, -69.7845, -69.7561,\n",
       "       -70.5655, -72.0569, -69.8601, -70.3962, -69.7436, -69.8455,\n",
       "       -69.9139, -71.1596, -70.375 , -71.1615, -70.0081, -69.7429,\n",
       "       -69.7515, -71.5966, -72.1389, -70.0023, -69.7436, -69.7556,\n",
       "       -69.7467, -73.0796, -69.7662, -70.1097, -70.1559, -69.8848,\n",
       "       -69.7431, -69.7496, -69.7657, -69.844 , -69.7621, -70.2165,\n",
       "       -69.7465, -69.9226, -69.7597, -69.8287, -69.7859, -69.7511,\n",
       "       -69.7599, -70.1904, -71.3337, -70.3475, -69.9034, -69.7964,\n",
       "       -71.0597, -69.7432, -74.0558, -70.5249, -70.084 , -70.4986,\n",
       "       -69.7545, -70.1931, -70.112 , -71.6589, -70.0811, -72.4849,\n",
       "       -69.767 , -70.0581, -70.0828, -69.9123, -69.7463, -71.5898,\n",
       "       -70.5802, -70.0104, -69.8226, -71.7217, -69.7429, -70.292 ,\n",
       "       -71.295 , -71.4409, -69.783 , -69.9148, -69.8   , -70.6086,\n",
       "       -71.2254, -72.0455, -69.9165, -69.8983, -70.1985, -69.7752,\n",
       "       -69.9112, -71.0594, -69.8068, -71.5584, -70.1695, -69.8932,\n",
       "       -70.573 , -70.048 , -69.7745, -70.3931, -69.8983, -70.084 ,\n",
       "       -69.837 , -69.8522, -70.8064, -70.0849, -69.8474, -71.125 ,\n",
       "       -69.8637, -69.8865, -69.9316, -69.8449, -69.7436, -69.9687,\n",
       "       -70.1535, -69.8644, -69.7768, -70.1488, -69.8376, -69.9277,\n",
       "       -69.7937, -71.5929, -69.836 , -69.7446, -70.084 , -70.3936,\n",
       "       -69.7586, -69.8183, -70.1817, -69.7501, -69.8631, -69.7517,\n",
       "       -70.2019, -71.1596, -70.0604, -69.9632, -70.5956, -69.8422,\n",
       "       -69.7645, -69.8396, -69.7427, -69.7582, -69.7486, -70.048 ,\n",
       "       -70.2934, -71.0768, -70.6979, -70.6963, -69.7836, -70.1866,\n",
       "       -69.7804, -69.8584, -69.7819, -70.3214, -69.9485, -69.8018,\n",
       "       -69.7843, -70.3632, -70.1252, -69.8811, -69.8249, -69.8796,\n",
       "       -69.8326, -70.458 , -69.7756, -69.7633, -69.7521, -70.3745,\n",
       "       -72.9757, -69.7434, -69.8955, -69.7637, -69.7703, -71.6961,\n",
       "       -69.7746, -69.938 , -70.0868, -70.0292, -69.9962, -70.3827,\n",
       "       -69.9707, -70.28  , -69.7574, -69.8501, -69.9009, -70.0757,\n",
       "       -71.5584, -69.9688, -70.8073, -69.9096, -70.0221, -69.7494,\n",
       "       -69.7439, -69.899 , -70.118 , -69.7451, -70.123 , -69.9326,\n",
       "       -70.2131, -69.7442, -69.9655, -70.2007, -69.7494, -70.3924,\n",
       "       -71.428 , -69.7603, -72.3435, -69.9195, -70.3091, -69.7572,\n",
       "       -69.9142, -69.9488, -74.8021, -69.8385, -69.7482, -70.0584,\n",
       "       -69.8083, -69.8662, -73.7457, -69.7554, -70.1234, -70.0292,\n",
       "       -69.7508, -70.226 , -70.0521, -69.7508, -70.5621, -70.6347,\n",
       "       -70.195 , -70.0764, -69.789 , -70.3651, -70.0064, -69.7512,\n",
       "       -69.8184, -70.0856, -69.7936, -70.94  , -70.4327, -70.3039,\n",
       "       -69.7876, -70.1252, -70.4778, -69.9795, -69.7633, -70.3611,\n",
       "       -69.97  , -71.2321, -70.0264, -69.833 , -69.7691, -69.9089,\n",
       "       -70.65  , -70.6964, -71.0125, -69.7436, -70.196 , -69.8654,\n",
       "       -70.7795, -69.8005, -69.8466, -70.6364, -69.7429, -70.4634,\n",
       "       -69.7595, -70.3632, -70.0131, -69.7433, -69.7427, -70.6858,\n",
       "       -70.5329, -70.2669, -69.914 , -69.8365, -71.0976, -69.8193,\n",
       "       -72.3435, -69.7475, -69.7458, -70.1894, -70.662 , -69.8157,\n",
       "       -69.7672, -70.1354, -69.7656, -69.8586, -70.2034, -69.9278,\n",
       "       -69.8367, -70.4422, -70.0307, -70.163 , -70.1023, -70.1535,\n",
       "       -70.4407, -70.0488, -69.784 , -70.052 , -69.7683, -71.2468,\n",
       "       -70.4694, -72.5285, -70.537 , -70.8336, -73.9984, -69.8652,\n",
       "       -69.7641, -70.4312, -70.346 , -69.7804, -69.7934, -69.9572,\n",
       "       -69.7652, -69.7511, -69.7428, -69.8483, -70.8179, -69.8863,\n",
       "       -69.7732, -69.9449, -69.799 , -69.9318, -70.1565, -69.9641,\n",
       "       -69.8637, -71.0976, -69.7428, -69.8453, -70.2388, -70.2653,\n",
       "       -71.3825, -69.8505, -69.8623, -69.8656, -69.7427, -69.8118,\n",
       "       -69.9138, -69.7602, -72.1069, -72.5645, -69.8302, -69.7467,\n",
       "       -69.8874, -69.7827, -70.0303, -71.3825, -69.7433, -69.7825,\n",
       "       -69.7431, -69.8079, -69.8089, -69.7978, -70.1061, -69.7462,\n",
       "       -69.772 , -70.0068, -69.7454, -70.5147, -69.9549, -69.922 ,\n",
       "       -70.0269, -69.7656, -69.823 , -73.0196, -69.8533, -70.1562,\n",
       "       -69.7439, -69.7502, -69.8003, -70.2851, -69.75  , -69.9306,\n",
       "       -70.3214, -69.7427, -69.8522, -69.7695, -69.8789, -69.9053,\n",
       "       -69.8381, -70.2968, -70.4298, -69.7798, -70.1904, -69.7467,\n",
       "       -69.7801, -69.8598, -69.7429, -69.9337, -70.2864, -69.8472,\n",
       "       -70.9655, -70.4172, -70.6968, -70.2678, -70.0688, -70.4689,\n",
       "       -69.8136, -69.8285, -69.8322, -69.7467, -69.749 , -70.1169,\n",
       "       -71.5545, -69.8215, -69.8895, -70.0197, -69.7815, -69.9072,\n",
       "       -70.195 , -69.7926, -71.1198, -70.0002, -69.8844, -69.8548,\n",
       "       -69.7954, -69.8684, -69.9277, -69.9109, -69.7927, -69.7922,\n",
       "       -70.513 , -69.8508, -71.7031, -73.4639, -69.9702, -69.7461,\n",
       "       -71.6618, -70.0145, -69.7514, -69.8285, -72.0298, -71.0365,\n",
       "       -71.1943, -69.8375, -69.7996, -70.3811, -69.751 , -70.8016,\n",
       "       -71.8872, -70.6279, -71.0467, -69.8584, -70.7657, -69.966 ,\n",
       "       -70.0202, -69.7834, -70.0037, -69.764 , -71.5398, -69.7574,\n",
       "       -72.1274, -70.0068, -69.7566, -70.5922, -70.4328, -69.7727,\n",
       "       -69.8001, -70.0268, -69.7603, -69.8558, -70.3893, -70.1278,\n",
       "       -69.7836, -70.4335, -70.5922, -69.9375, -69.8826, -69.9965,\n",
       "       -69.8255, -69.7617, -69.7607, -69.7428, -69.7453, -69.982 ,\n",
       "       -70.3326, -69.9458, -70.3749, -69.7607, -69.7849, -69.781 ,\n",
       "       -69.7456, -69.9256]))]))"
      ]
     },
     "execution_count": 7,
     "metadata": {},
     "output_type": "execute_result"
    }
   ],
   "source": [
    "coin_dict = fit.extract()\n",
    "coin_dict.keys()\n",
    "# lp_ is the log posterior"
   ]
  },
  {
   "cell_type": "code",
   "execution_count": 8,
   "metadata": {
    "collapsed": false
   },
   "outputs": [
    {
     "data": {
      "image/png": "[encoded data removed]",
      "text/plain": [
       "<matplotlib.figure.Figure at 0x7fed0bd53320>"
      ]
     },
     "metadata": {},
     "output_type": "display_data"
    }
   ],
   "source": [
    "fit.plot('p');\n",
    "plt.tight_layout()"
   ]
  }
 ],
 "metadata": {
  "kernelspec": {
   "display_name": "Python 3",
   "language": "python",
   "name": "python3"
  },
  "language_info": {
   "codemirror_mode": {
    "name": "ipython",
    "version": 3
   },
   "file_extension": ".py",
   "mimetype": "text/x-python",
   "name": "python",
   "nbconvert_exporter": "python",
   "pygments_lexer": "ipython3",
   "version": "3.4.3"
  }
 },
 "nbformat": 4,
 "nbformat_minor": 0
}
