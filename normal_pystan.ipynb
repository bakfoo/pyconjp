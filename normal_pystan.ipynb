{
 "cells": [
  {
   "cell_type": "code",
   "execution_count": 1,
   "metadata": {
    "collapsed": true
   },
   "outputs": [],
   "source": [
    "from __future__ import division\n",
    "import os\n",
    "import sys\n",
    "import glob\n",
    "import matplotlib.pyplot as plt\n",
    "import numpy as np\n",
    "import pandas as pd\n",
    "%matplotlib inline\n",
    "%precision 4\n",
    "#plt.style.use('ggplot')\n",
    "import seaborn as sns\n",
    "sns.set_style('white')\n",
    "sns.set_context('paper')\n",
    "\n",
    "np.random.seed(1234)\n",
    "import pystan\n",
    "import scipy.stats as stats\n",
    "\n",
    "import scipy.stats as stats"
   ]
  },
  {
   "cell_type": "code",
   "execution_count": 2,
   "metadata": {
    "collapsed": true
   },
   "outputs": [],
   "source": [
    "norm_code = \"\"\"\n",
    "data {\n",
    "    int<lower=0> n;\n",
    "    real y[n];\n",
    "}\n",
    "transformed data {}\n",
    "parameters {\n",
    "    real<lower=0, upper=100> mu;\n",
    "    real<lower=0, upper=10> sigma;\n",
    "}\n",
    "transformed parameters {}\n",
    "model {\n",
    "    y ~ normal(mu, sigma);\n",
    "}\n",
    "generated quantities {}\n",
    "\"\"\"\n",
    "\n",
    "norm_dat = {\n",
    "             'n': 100,\n",
    "             'y': np.random.normal(10, 2, 100),\n",
    "            }\n",
    "\n",
    "fit = pystan.stan(model_code=norm_code, data=norm_dat, iter=1000, chains=1)"
   ]
  },
  {
   "cell_type": "code",
   "execution_count": 3,
   "metadata": {
    "collapsed": false
   },
   "outputs": [
    {
     "name": "stdout",
     "output_type": "stream",
     "text": [
      "Inference for Stan model: anon_model_28da12e8c84b1a8354384170469e2407.\n",
      "1 chains, each with iter=1000; warmup=500; thin=1; \n",
      "post-warmup draws per chain=500, total post-warmup draws=500.\n",
      "\n",
      "        mean se_mean     sd   2.5%    25%    50%    75%  97.5%  n_eff   Rhat\n",
      "mu     10.04    0.02    0.2   9.67    9.9  10.04  10.19  10.42    138   1.01\n",
      "sigma   2.02    0.01   0.14   1.77   1.93   2.01   2.11   2.32    148   1.01\n",
      "lp__  -117.1    0.09   0.96 -119.7 -117.4 -116.9 -116.5 -116.2    106   1.01\n",
      "\n",
      "Samples were drawn using NUTS(diag_e) at Tue Oct  6 09:25:32 2015.\n",
      "For each parameter, n_eff is a crude measure of effective sample size,\n",
      "and Rhat is the potential scale reduction factor on split chains (at \n",
      "convergence, Rhat=1).\n"
     ]
    }
   ],
   "source": [
    "print(fit)"
   ]
  },
  {
   "cell_type": "code",
   "execution_count": 4,
   "metadata": {
    "collapsed": false
   },
   "outputs": [],
   "source": [
    "trace = fit.extract()"
   ]
  },
  {
   "cell_type": "code",
   "execution_count": 5,
   "metadata": {
    "collapsed": false
   },
   "outputs": [
    {
     "data": {
      "image/png": "[encoded data removed]",
      "text/plain": [
       "<matplotlib.figure.Figure at 0x7fc20f4b7be0>"
      ]
     },
     "metadata": {},
     "output_type": "display_data"
    }
   ],
   "source": [
    "plt.figure(figsize=(10,4))\n",
    "plt.subplot(1,2,1);\n",
    "plt.hist(trace['mu'][:], 25, histtype='step');\n",
    "plt.subplot(1,2,2);\n",
    "plt.hist(trace['sigma'][:], 25, histtype='step');"
   ]
  },
  {
   "cell_type": "code",
   "execution_count": 12,
   "metadata": {
    "collapsed": false
   },
   "outputs": [],
   "source": [
    "# コンパイル済みモデルの保存\n",
    "model = pystan.StanModel(model_code=norm_code) \n",
    "import pickle\n",
    "f = open('norm_model.pic', 'wb')\n",
    "pickle.dump(model, f, protocol=pickle.HIGHEST_PROTOCOL)\n",
    "\n",
    "#new_model = pickle.load(open('norm_model.pic', 'r'))"
   ]
  }
 ],
 "metadata": {
  "kernelspec": {
   "display_name": "Python 3",
   "language": "python",
   "name": "python3"
  },
  "language_info": {
   "codemirror_mode": {
    "name": "ipython",
    "version": 3
   },
   "file_extension": ".py",
   "mimetype": "text/x-python",
   "name": "python",
   "nbconvert_exporter": "python",
   "pygments_lexer": "ipython3",
   "version": "3.4.3"
  }
 },
 "nbformat": 4,
 "nbformat_minor": 0
}
