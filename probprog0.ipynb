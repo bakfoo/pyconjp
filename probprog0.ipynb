{
 "cells": [
  {
   "cell_type": "markdown",
   "metadata": {},
   "source": [
    "# エンジニアのためのベイズ推定入門"
   ]
  },
  {
   "cell_type": "markdown",
   "metadata": {},
   "source": [
    "## 確率論的プログラミングのすすめ"
   ]
  },
  {
   "cell_type": "markdown",
   "metadata": {},
   "source": [
    "------------------\n",
    "\n",
    "# 目次\n",
    "\n",
    "## 第0部 準備\n",
    "\n",
    "- はじめに\n",
    "    - チュートリアルの進め方\n",
    "    - 対象\n",
    "- 参考文献，参考講義紹介\n",
    "- セットアップ\n",
    "\n",
    "## 第1部 ベイズ基礎\n",
    "\n",
    "- 結合確率，周辺確率，条件付き確率\n",
    "- ベイズの定理の導出\n",
    "- ベイズ更新と事前確率・事後確率\n",
    "\n",
    "## 第2部 モンテカルロ法と推定\n",
    "\n",
    "- モンテカルロサンプリングとパラメータ推定\n",
    "- ベイズの定理 + モンテカルロ -> 確率論的プログラミング\n",
    "- 点推定，区間推定\n",
    "    - EAP\n",
    "    - MAP\n",
    "    - MED\n",
    "    - 区間推定\n",
    "- マルコフ鎖モンテカルロ(MCMC)のさわり\n",
    "\t- メトロポリス・ヘイスティング法\n",
    "\t- ギブスサンプリング法\n",
    "    - スライスサンプリング\n",
    "\t- ハミルトニアンモンテカルロ法\n",
    "- 計算機実装\n",
    "    - pymc3\n",
    "    - pystan\n",
    "\n",
    "## 第3部 モデリング入門\n",
    "- 確率論的プログラマの仕事\n",
    "- コイン投げ - pymc3\n",
    "- コイン投げ - pystan\n",
    "- モデリングの素振り練習\n",
    "    - 正規分布 normal: pymc3, pystan\n",
    "    - 線形回帰 linreg: pymc3, pystan\n",
    "    - ロジステック回帰 gender: pymc3, pystan\n",
    "    - 階層ベイズ gelmanradon: pymc3"
   ]
  },
  {
   "cell_type": "markdown",
   "metadata": {},
   "source": [
    "-------------------------\n",
    "\n",
    "# 第0部 準備"
   ]
  },
  {
   "cell_type": "markdown",
   "metadata": {},
   "source": [
    "## はじめに\n",
    "\n",
    "### チュートリアルの進め方\n",
    "\n",
    "- 教材となるJupyter Notebookをダウンロード，またはDocker ImageをDocker Hubからpull，~~さらには今回の講習で利用するJupyterHubサーバー~~または以下のnbviewerにアクセスします．\n",
    "\n",
    "http://nbviewer.ipython.org/github/bakfoo/pyconjp/tree/master/\n",
    "\n",
    "- 教材，および捕捉資料はプロジェクタで投影します．\n",
    "- Jupyter Notebookのコードを一つ一つ実行させながら，確率論的プログラミングを理解していきます．\n",
    "- 質問は随時受け付けますが，時間内に答えることが難しい質問は後に回してまとめて回答します．\n",
    "\n",
    "### 対象\n",
    "\n",
    "- ベイズ推定の基本身につけたいと思っているエンジニア\n",
    "- 確率論的プログラミングが気になっている全ての人\n",
    "- Python / NumPy / SciPy を使ったプログラミングを何度か自分の力で書き上げた方，またはそれに必要な知識を持った方\n",
    "- 大学初年度程度の数学（線形代数，確率論，統計学）の知識があると理解がスムーズになります．"
   ]
  },
  {
   "cell_type": "markdown",
   "metadata": {},
   "source": [
    "## 参考文献，参考講義紹介\n",
    "\n",
    "### 確率論的プログラミング入門/参考文献\n",
    "- John Kruschke, Doing Bayesian Data Analysis 1st ed.\n",
    "\n",
    "![alt text](fig/doing.jpg \"doging\")\n",
    "\n",
    "- Gelman et al., Bayesian Data Analysis 3rd ed.\n",
    "\n",
    "![alt text](fig/bda.jpg \"bda\")\n",
    "\n",
    "- 豊田秀樹編著, 基礎からのベイズ統計学 - ハミルトニアンモンテカルロ法による実践的入門\n",
    "\n",
    "![alt text](fig/toyoda.jpg \"bda\")\n",
    "\n",
    "- C.P.ロバート & G. カセーラ, Rによるモンテカルロ法入門\n",
    "\n",
    "![alt text](fig/robert.jpg \"bda\")\n",
    "\n",
    "- Cliburn Chan & Janice McCarthy STA663 http://people.duke.edu/~ccc14/sta-663-2015/\n",
    "\n",
    "### 確率論的プログラミング入門/MCMC HMC ビデオチュートリアル\n",
    "\n",
    "修士の大学院生レベルですが，確率論的プログラミング入門として，以下のビデオチュートリアルは非常に良いです．\n",
    "\n",
    "- Harvard Extentions AM207\n",
    "    - Monte Carlo Methods, Stochastic Optimization (Verena Kaynig-Fittkau and Pavlos Protopapas) http://am207.org/\n",
    "        - Python2, numpy/scipyのバニラな実装\n",
    "\n",
    "- Machine Learning Summer School in Sydney, 2015 http://rp-www.cs.usyd.edu.au/~mlss/\n",
    "    - Bayesian Inference and MCMC (Bob Carpenter) https://youtu.be/qQFF4tPgeWI\n",
    "    - Stan Hands-on (Bob Carpenter) https://youtu.be/6NXRCtWQNMg\n",
    "- Machine Learning Summer School in Iceland, 2014 http://mlss2014.hiit.fi/slides.php\n",
    "    - Hamiltonian Monte Carlo and Stan (Michael Betancourt) https://www.youtube.com/watch?v=pHsuIaPbNbY  \n",
    "    - Hamiltonian Monte Carlo and Stan 2 (Michael Betancourt) https://www.youtube.com/watch?v=xWQpEAyI5s8 https://www.youtube.com/watch?v=xWQpEAyI5s8"
   ]
  },
  {
   "cell_type": "code",
   "execution_count": 7,
   "metadata": {
    "collapsed": false
   },
   "outputs": [
    {
     "data": {
      "text/html": [
       "\n",
       "        <iframe\n",
       "            width=\"400\"\n",
       "            height=\"300\"\n",
       "            src=\"https://www.youtube.com/embed/qQFF4tPgeWI\"\n",
       "            frameborder=\"0\"\n",
       "            allowfullscreen\n",
       "        ></iframe>\n",
       "        "
      ],
      "text/plain": [
       "<IPython.lib.display.YouTubeVideo at 0x7f5ee1145710>"
      ]
     },
     "execution_count": 7,
     "metadata": {},
     "output_type": "execute_result"
    }
   ],
   "source": [
    "from IPython.display import YouTubeVideo\n",
    "\n",
    "# Bob Carpenter: \"Bayesian Inference and MCMC\" in MLSS Sydney 2015\n",
    "YouTubeVideo('qQFF4tPgeWI')"
   ]
  },
  {
   "cell_type": "code",
   "execution_count": 6,
   "metadata": {
    "collapsed": false
   },
   "outputs": [
    {
     "data": {
      "text/html": [
       "\n",
       "        <iframe\n",
       "            width=\"400\"\n",
       "            height=\"300\"\n",
       "            src=\"https://www.youtube.com/embed/6NXRCtWQNMg\"\n",
       "            frameborder=\"0\"\n",
       "            allowfullscreen\n",
       "        ></iframe>\n",
       "        "
      ],
      "text/plain": [
       "<IPython.lib.display.YouTubeVideo at 0x7f5ee1145198>"
      ]
     },
     "execution_count": 6,
     "metadata": {},
     "output_type": "execute_result"
    }
   ],
   "source": [
    "# Bob Carpenter: \"Stan Hands-on\" in MLSS Sydney 2015\n",
    "YouTubeVideo('6NXRCtWQNMg')"
   ]
  },
  {
   "cell_type": "code",
   "execution_count": 8,
   "metadata": {
    "collapsed": false
   },
   "outputs": [
    {
     "data": {
      "text/html": [
       "\n",
       "        <iframe\n",
       "            width=\"400\"\n",
       "            height=\"300\"\n",
       "            src=\"https://www.youtube.com/embed/pHsuIaPbNbY\"\n",
       "            frameborder=\"0\"\n",
       "            allowfullscreen\n",
       "        ></iframe>\n",
       "        "
      ],
      "text/plain": [
       "<IPython.lib.display.YouTubeVideo at 0x7f5ee11455f8>"
      ]
     },
     "execution_count": 8,
     "metadata": {},
     "output_type": "execute_result"
    }
   ],
   "source": [
    "# Michael Betancourt: \"Hamiltonian Monte Carlo and Stan\" in MLSS Iceland 2014\n",
    "YouTubeVideo('pHsuIaPbNbY')"
   ]
  },
  {
   "cell_type": "code",
   "execution_count": 9,
   "metadata": {
    "collapsed": false
   },
   "outputs": [
    {
     "data": {
      "text/html": [
       "\n",
       "        <iframe\n",
       "            width=\"400\"\n",
       "            height=\"300\"\n",
       "            src=\"https://www.youtube.com/embed/xWQpEAyI5s8\"\n",
       "            frameborder=\"0\"\n",
       "            allowfullscreen\n",
       "        ></iframe>\n",
       "        "
      ],
      "text/plain": [
       "<IPython.lib.display.YouTubeVideo at 0x7f5ee1145748>"
      ]
     },
     "execution_count": 9,
     "metadata": {},
     "output_type": "execute_result"
    }
   ],
   "source": [
    "# Michael Betancourt: \"Hamiltonian Monte Carlo and Stan\" in MLSS Iceland 2014\n",
    "YouTubeVideo('xWQpEAyI5s8')"
   ]
  },
  {
   "cell_type": "markdown",
   "metadata": {
    "collapsed": true
   },
   "source": [
    "## セットアップ\n",
    "\n",
    "### 0 チュートリアル環境の構築前の注意\n",
    "\n",
    "確率論的プログラミングはまだ若い分野ですので，計算環境の構築方法が成熟していません．チュートリアルではpymc3やpystanを利用しますが，それらの開発者は基本的にUbuntuにAnaconda Pythonを利用してるので，まともに動作する環境はどうしてもUbuntu + Anacondaが中心になってしまいます．以下に構築前の注意を列挙します．\n",
    "\n",
    "- Windowsで確率論的プログラミングを行うことは，pymc3のtheanoのGPUの問題，pystanのプロセス制限の問題等，制約が多すぎて困難な道となります．Windowsを利用する場合，VMWare, VirtualBox, Vagrant等の仮想環境またはDocker等のコンテナ技術を利用してLinuxを用意するほうが精神衛生上望ましいと考えています．\n",
    "- Python環境の構築はAnacondaディストリビューションを前提とします．素のPythonから確率論的プログラミングの環境を構築することは，数々の罠に嵌まる可能性が否定できませんので推奨できません．\n",
    "- もしも，チュートリアル当日までに環境を構築できなくても問題ありません．チュートリアルはJupyter Notebookで行いますので，Docker Imageを用意~~するか，JupyterHub等によりWebブラウザからチュートリアルマテリアルにアクセス~~し実行できるようにします．\n",
    "- 皆様には大変申し訳ございませんが，JupyterHubが技術的理由により用意できませんでした．お詫びを申しあげます．代わりに以下のnbviewerで代替させていただきます．\n",
    "\n",
    "http://nbviewer.ipython.org/github/bakfoo/pyconjp/tree/master/\n",
    "\n",
    "### 1 Linux/OSX環境に直接チュートリアル環境の構築する方法\n",
    "\n",
    "それぞれのOS環境にて，C/C++のビルドができるところまで完了している，というのがチュートリアル環境を構築するための大前提です．たとえばUbuntuでは，\n",
    "\n",
    "```\n",
    "apt-get install build-essential\n",
    "```\n",
    "\n",
    "が完了している，ということです．OSX環境であればXcodeとコマンドラインツールがインストール済みで，コマンドラインでgccが動作するということです．\n",
    "\n",
    "#### 1.1 Python環境の構築\n",
    "\n",
    "以下のサイトからダウンロードしてAnaconda Pythonをインストールしてください．Python3.4を使います．\n",
    "\n",
    "https://www.continuum.io/downloads\n",
    "\n",
    "すでにAnaconda環境がある場合は，以下のようにpython環境を新しくすれば，既存の環境を壊すことなくチュートリアルの環境が構築できます．\n",
    "\n",
    "```\n",
    "conda create -n pycon python=3.4\n",
    "source activate pycon\n",
    "conda install anaconda\n",
    "```\n",
    "\n",
    "#### 1.2 pymc3のインストール\n",
    "\n",
    "以下の手順でpipを利用してpymc3を構築します．ポイントはtheano, pymc3ともに最新版のリポジトリのものを利用しないとバグのために動作しない，ということです．インストール時にc/c++のビルドを行います．公式インストール手順：https://pymc-devs.github.io/pymc3/getting_started/\n",
    "\n",
    "```\n",
    "pip install --upgrade --no-deps git+git://github.com/Theano/Theano.git\n",
    "pip install --process-dependency-links git+https://github.com/pymc-devs/pymc3\n",
    "pip install pasty\n",
    "pip install seaborn\n",
    "```\n",
    "\n",
    "#### 1.3 pystanのインストール\n",
    "\n",
    "次に以下の手順でpipを利用してpystanを構築します．インストール時にc/c++のビルドを行います．公式インストール手順：https://pystan.readthedocs.org/en/latest/getting_started.html\n",
    "\n",
    "```\n",
    "pip install pystan\n",
    "```\n",
    "\n",
    "以上でチュートリアル環境の構築は終了です．\n",
    "\n",
    "### 2 Dockerを利用してチュートリアル環境を構築する方法\n",
    "\n",
    "#### 2.1 VirtualBoxをダウンロードしてインストール\n",
    "\n",
    "- https://www.virtualbox.org/wiki/Downloads\n",
    "\n",
    "#### 2.2 Docker Toolboxをダウンロードしてインストール\n",
    "\n",
    "- https://www.docker.com/toolbox\n",
    "\n",
    "#### 2.3 以下のコマンドでDockerコンテナ起動\n",
    "\n",
    "注意: 下記にある三番目のdocker runの\"[LOCAL DIR]”の部分はご自分のディレクトリを指定ください．\n",
    "\n",
    "```\n",
    "docker-machine create --driver virtualbox --virtualbox-memory 3081 dev\n",
    "\n",
    "eval \"$(docker-machine env dev)\"\n",
    "\n",
    "docker run -t -i -v [LOCAL DIR]:/notebook -p 8888:8888 yutakashino/pyconjp:v1.2 /bin/bash\n",
    "\n",
    "root@d3c2644d9fb3:/notebook# git clone https://github.com/bakfoo/pyconjp.git\n",
    "root@d3c2644d9fb3:/notebook# ipython notebook --ip=* --port=8888\n",
    "```\n",
    "\n",
    "#### 2.4 ブラウザでアクセス\n",
    "\n",
    "- ipは\"docker-machine ip dev\"により調べる\n",
    "- portは8888\n",
    "- \n",
    "```\n",
    "http://192.168.99.101:8888/tree/pyconjp\n",
    "```"
   ]
  },
  {
   "cell_type": "code",
   "execution_count": null,
   "metadata": {
    "collapsed": true
   },
   "outputs": [],
   "source": []
  }
 ],
 "metadata": {
  "kernelspec": {
   "display_name": "Python 3",
   "language": "python",
   "name": "python3"
  },
  "language_info": {
   "codemirror_mode": {
    "name": "ipython",
    "version": 3
   },
   "file_extension": ".py",
   "mimetype": "text/x-python",
   "name": "python",
   "nbconvert_exporter": "python",
   "pygments_lexer": "ipython3",
   "version": "3.4.3"
  }
 },
 "nbformat": 4,
 "nbformat_minor": 0
}
